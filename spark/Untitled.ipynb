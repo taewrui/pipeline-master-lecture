{
 "cells": [
  {
   "cell_type": "code",
   "execution_count": 1,
   "id": "06d7a9bc-581d-4c56-8839-3c9314a20bc3",
   "metadata": {},
   "outputs": [
    {
     "name": "stdout",
     "output_type": "stream",
     "text": [
      "3.10.12 (main, Nov 20 2023, 15:14:05) [GCC 11.4.0]\n"
     ]
    }
   ],
   "source": [
    "import sys\n",
    "print(sys.version)"
   ]
  },
  {
   "cell_type": "code",
   "execution_count": 2,
   "id": "1c94d250-483c-4b0a-a9db-13b5c77978f5",
   "metadata": {},
   "outputs": [],
   "source": [
    "import os\n",
    "os.environ[\"SPARK_HOME\"] = \"/home/hadoop/spark-3.5.1-bin-hadoop3\""
   ]
  },
  {
   "cell_type": "code",
   "execution_count": 3,
   "id": "14f6ce05-6f80-45cb-8b64-db674f8603e8",
   "metadata": {},
   "outputs": [],
   "source": [
    "import findspark\n",
    "findspark.init()"
   ]
  },
  {
   "cell_type": "code",
   "execution_count": 4,
   "id": "8d07f37d-2c7e-4c2a-af27-691539e8d702",
   "metadata": {},
   "outputs": [
    {
     "name": "stderr",
     "output_type": "stream",
     "text": [
      "24/03/20 13:43:06 WARN Utils: Your hostname, DESKTOP-79D6ANB resolves to a loopback address: 127.0.1.1; using 172.21.51.108 instead (on interface eth0)\n",
      "24/03/20 13:43:06 WARN Utils: Set SPARK_LOCAL_IP if you need to bind to another address\n",
      "Setting default log level to \"WARN\".\n",
      "To adjust logging level use sc.setLogLevel(newLevel). For SparkR, use setLogLevel(newLevel).\n",
      "24/03/20 13:43:09 WARN NativeCodeLoader: Unable to load native-hadoop library for your platform... using builtin-java classes where applicable\n"
     ]
    }
   ],
   "source": [
    "import pyspark\n",
    "sc = pyspark.SparkContext(appName=\"Example\")"
   ]
  },
  {
   "cell_type": "code",
   "execution_count": 5,
   "id": "d1cf3746-d428-401f-9a87-f9af8ac0e323",
   "metadata": {},
   "outputs": [
    {
     "name": "stderr",
     "output_type": "stream",
     "text": [
      "                                                                                \r"
     ]
    },
    {
     "data": {
      "text/plain": [
       "[1, 2, 3, 4]"
      ]
     },
     "execution_count": 5,
     "metadata": {},
     "output_type": "execute_result"
    }
   ],
   "source": [
    "lst = [1, 2, 3, 4]\n",
    "rdd = sc.parallelize(lst)\n",
    "rdd.collect()"
   ]
  },
  {
   "cell_type": "code",
   "execution_count": 7,
   "id": "2247e4ad-cab5-4786-aa20-5be840e9efad",
   "metadata": {},
   "outputs": [],
   "source": [
    "words = [['cat', 'cat'], ['ele'], ['cat', 'ele']]"
   ]
  },
  {
   "cell_type": "code",
   "execution_count": 10,
   "id": "e556b221-8105-44f5-a631-a293be1bffd5",
   "metadata": {},
   "outputs": [
    {
     "name": "stderr",
     "output_type": "stream",
     "text": [
      "[Stage 1:====================================================>    (11 + 1) / 12]\r"
     ]
    },
    {
     "name": "stdout",
     "output_type": "stream",
     "text": [
      "[['cat', 'cat'], ['ele'], ['cat', 'ele']]\n"
     ]
    },
    {
     "name": "stderr",
     "output_type": "stream",
     "text": [
      "                                                                                \r"
     ]
    }
   ],
   "source": [
    "rdd = sc.parallelize(words)\n",
    "output = rdd.map(lambda line: [x for x in line]).collect()\n",
    "print(output)"
   ]
  },
  {
   "cell_type": "code",
   "execution_count": 6,
   "id": "695eb6a9-2b08-4f95-b584-5a80c101a00a",
   "metadata": {},
   "outputs": [],
   "source": [
    "from pyspark.sql import SQLContext\n",
    "sqlContext = SQLContext(sc)"
   ]
  },
  {
   "cell_type": "code",
   "execution_count": 7,
   "id": "e5b753fc-0015-46fe-891a-fc34c6ea2de0",
   "metadata": {},
   "outputs": [],
   "source": [
    "file_name = \"wb.json\""
   ]
  },
  {
   "cell_type": "code",
   "execution_count": 9,
   "id": "2ff29907-5655-4eca-904c-b478b758eb17",
   "metadata": {},
   "outputs": [
    {
     "name": "stderr",
     "output_type": "stream",
     "text": [
      "                                                                                \r"
     ]
    }
   ],
   "source": [
    "df = sqlContext.read.json(file_name)"
   ]
  },
  {
   "cell_type": "code",
   "execution_count": 11,
   "id": "8d81f22c-0c91-4473-aa8b-1a7a29e2e79b",
   "metadata": {},
   "outputs": [
    {
     "name": "stderr",
     "output_type": "stream",
     "text": [
      "24/03/20 13:51:45 WARN SparkStringUtils: Truncated the string representation of a plan since it was too large. This behavior can be adjusted by setting 'spark.sql.debug.maxToStringFields'.\n",
      "[Stage 1:>                                                          (0 + 1) / 1]\r"
     ]
    },
    {
     "name": "stdout",
     "output_type": "stream",
     "text": [
      "+--------------------+----------+--------------------+--------------------+--------------------+--------------------+--------------------+-----------+--------------------+------------------+--------------------+------------------------+--------+-----------+-------+----------+--------------------+--------------------+----------------+---------------+--------------------+--------------------+--------------------+--------------------+-----------+--------+--------------------+---------------+--------------------+--------------------+--------------------+--------------------+--------------------+--------------------+--------------------+--------------------+--------------------+--------------------+--------------------+--------------------+--------------+------+------+--------------------+--------------------+--------------------+--------------+---------+------------+--------------------+\n",
      "|                 _id|approvalfy|board_approval_month|   boardapprovaldate|            borrower|         closingdate|    country_namecode|countrycode|         countryname|  countryshortname|               docty|envassesmentcategorycode|grantamt|ibrdcommamt|     id|idacommamt|           impagency|        lendinginstr|lendinginstrtype|lendprojectcost| majorsector_percent|   mjsector_namecode|             mjtheme|    mjtheme_namecode|mjthemecode|prodline|        prodlinetext|productlinetype|    project_abstract|        project_name|         projectdocs|projectfinancialtype|projectstatusdisplay|          regionname|              sector|             sector1|             sector2|             sector3|             sector4|     sector_namecode|    sectorcode|source|status|supplementprojectflg|              theme1|      theme_namecode|     themecode| totalamt|totalcommamt|                 url|\n",
      "+--------------------+----------+--------------------+--------------------+--------------------+--------------------+--------------------+-----------+--------------------+------------------+--------------------+------------------------+--------+-----------+-------+----------+--------------------+--------------------+----------------+---------------+--------------------+--------------------+--------------------+--------------------+-----------+--------+--------------------+---------------+--------------------+--------------------+--------------------+--------------------+--------------------+--------------------+--------------------+--------------------+--------------------+--------------------+--------------------+--------------------+--------------+------+------+--------------------+--------------------+--------------------+--------------+---------+------------+--------------------+\n",
      "|{52b213b38594d8a2...|      1999|            November|2013-11-12T00:00:00Z|FEDERAL DEMOCRATI...|2018-07-07T00:00:00Z|Federal Democrati...|         ET|Federal Democrati...|          Ethiopia|Project Informati...|                       C|       0|          0|P129828| 130000000|MINISTRY OF EDUCA...|Investment Projec...|              IN|      550000000|[{Education, 46},...|[{EX, Education},...| [Human development]|[{8, Human develo...|       8,11|      PE|            IBRD/IDA|              L|{The development ...|Ethiopia General ...|[{28-AUG-2013, PI...|                 IDA|              Active|              Africa|[{Primary educati...|{Primary educatio...|{Secondary educat...|{Public administr...|{Tertiary educati...|[{EP, Primary edu...|   ET,BS,ES,EP|  IBRD|Active|                   N|{Education for al...|[{65, Education f...|            65|130000000|   130000000|http://www.worldb...|\n",
      "|{52b213b38594d8a2...|      2015|            November|2013-11-04T00:00:00Z|GOVERNMENT OF TUN...|                NULL|Republic of Tunis...|         TN| Republic of Tunisia|           Tunisia|Project Informati...|                       C| 4700000|          0|P144674|         0| MINISTRY OF FINANCE|Specific Investme...|              IN|        5700000|[{Public Administ...|[{BX, Public Admi...|[Economic managem...|[{1, Economic man...|        1,6|      RE|Recipient Execute...|              L|                NULL|TN: DTF Social Pr...|[{29-MAR-2013, PI...|               OTHER|              Active|Middle East and N...|[{Public administ...|{Public administr...|{General public a...|                NULL|                NULL|[{BS, Public admi...|         BZ,BS|  IBRD|Active|                   N|{Other economic m...|[{24, Other econo...|         54,24|        0|     4700000|http://www.worldb...|\n",
      "|{52b213b38594d8a2...|      2014|            November|2013-11-01T00:00:00Z|MINISTRY OF FINAN...|                NULL|         Tuvalu!$!TV|         TV|              Tuvalu|            Tuvalu|Resettlement Plan...|                       B|       0|          0|P145310|   6060000|MINISTRY OF TRANS...|Investment Projec...|              IN|        6060000|[{Transportation,...|[{TX, Transportat...|[Trade and integr...|[{5, Trade and in...|   5,2,11,6|      PE|            IBRD/IDA|              L|                NULL|Tuvalu Aviation I...|[{21-OCT-2013, RP...|                 IDA|              Active|East Asia and Pac...|[{Rural and Inter...|{Rural and Inter-...|                NULL|                NULL|                NULL|[{TI, Rural and I...|            TI|  IBRD|Active|                   Y|{Regional integra...|[{47, Regional in...|   52,81,25,47|  6060000|     6060000|http://www.worldb...|\n",
      "|{52b213b38594d8a2...|      2014|             October|2013-10-31T00:00:00Z|MIN. OF PLANNING ...|                NULL|Republic of Yemen...|         RY|   Republic of Yemen|Yemen, Republic of|Procurement Plan,...|                       C| 1500000|          0|P144665|         0|LABOR INTENSIVE P...|Technical Assista...|              IN|        1500000|[{Health and othe...|[{JX, Health and ...|[Social dev/gende...|[{7, Social dev/g...|        7,7|      RE|Recipient Execute...|              L|                NULL|Gov't and Civil S...|[{15-MAY-2013, PR...|               OTHER|              Active|Middle East and N...|[{Other social se...|{Other social ser...|                NULL|                NULL|                NULL|[{JB, Other socia...|            JB|  IBRD|Active|                   N|{Participation an...|[{57, Participati...|         59,57|        0|     1500000|http://www.worldb...|\n",
      "|{52b213b38594d8a2...|      2014|             October|2013-10-31T00:00:00Z| MINISTRY OF FINANCE|2019-04-30T00:00:00Z|Kingdom of Lesoth...|         LS|  Kingdom of Lesotho|           Lesotho|Project Informati...|                       B|       0|          0|P144933|  13100000|MINISTRY OF TRADE...|Investment Projec...|              IN|       15000000|[{Industry and tr...|[{YX, Industry an...|[Trade and integr...|[{5, Trade and in...|        5,4|      PE|            IBRD/IDA|              L|{The development ...|Second Private Se...|[{06-SEP-2013, PI...|                 IDA|              Active|              Africa|[{General industr...|{General industry...|{Other industry, 40}|   {SME Finance, 10}|                NULL|[{YZ, General ind...|      FH,YW,YZ|  IBRD|Active|                   N|{Export developme...|[{45, Export deve...|         41,45| 13100000|    13100000|http://www.worldb...|\n",
      "|{52b213b38594d8a2...|      2014|             October|2013-10-31T00:00:00Z|   REPUBLIC OF KENYA|                NULL|Republic of Kenya...|         KE|   Republic of Kenya|             Kenya|Integrated Safegu...|                       C|       0|          0|P146161|  10000000|                NULL|Investment Projec...|              IN|       66400000|[{Health and othe...|[{JX, Health and ...|[Social protectio...|[{6, Social prote...|        6,6|      PE|            IBRD/IDA|              L|                NULL|Additional Financ...|[{16-SEP-2013, IS...|                 IDA|              Active|              Africa|[{Other social se...|{Other social ser...|                NULL|                NULL|                NULL|[{JB, Other socia...|            JB|  IBRD|Active|                   Y|{Social safety ne...|[{54, Social safe...|            54| 10000000|    10000000|http://www.worldb...|\n",
      "|{52b213b38594d8a2...|      2014|             October|2013-10-29T00:00:00Z| GOVERNMENT OF INDIA|2019-06-30T00:00:00Z|Republic of India...|         IN|   Republic of India|             India|Project Appraisal...|                       A|       0|  500000000|P121185|         0|MINISTRY OF ROAD ...|Specific Investme...|              IN|     1146050000|[{Transportation,...|[{TX, Transportat...|[Public sector go...|[{2, Public secto...|        2,4|      PE|            IBRD/IDA|              L|{The development ...|National Highways...|[{02-OCT-2013, PA...|                IBRD|              Active|          South Asia|[{Rural and Inter...|{Rural and Inter-...|                NULL|                NULL|                NULL|[{TI, Rural and I...|            TI|  IBRD|Active|                   N|{Administrative a...|[{25, Administrat...|         39,25|500000000|   500000000|http://www.worldb...|\n",
      "|{52b213b38594d8a2...|      2014|             October|2013-10-29T00:00:00Z|PEOPLE'S REPUBLIC...|                NULL|People's Republic...|         CN|People's Republic...|             China|Project Appraisal...|                       C|27280000|          0|P127033|         0|NATIONAL ENERGY A...|Investment Projec...|              IN|       27280000|[{Energy and mini...|[{LX, Energy and ...|[Environment and ...|[{11, Environment...|       11,8|      GE|Global Environmen...|              L|{The development ...|China Renewable E...|[{18-SEP-2013, PA...|               OTHER|              Active|East Asia and Pac...|[{Other Renewable...|{Other Renewable ...|                NULL|                NULL|                NULL|[{LR, Other Renew...|            LR|  IBRD|Active|                   N|{Climate change, ...|[{81, Climate cha...|            81|        0|    27280000|http://www.worldb...|\n",
      "|{52b213b38594d8a2...|      2014|             October|2013-10-29T00:00:00Z|THE GOVERNMENT OF...|2018-12-31T00:00:00Z|Republic of India...|         IN|   Republic of India|             India|Project Appraisal...|                       B|       0|          0|P130164| 160000000|PUBLIC WORKS DEPA...|Specific Investme...|              IN|      227000000|[{Transportation,...|[{TX, Transportat...| [Rural development]|[{10, Rural devel...|       10,7|      PE|            IBRD/IDA|              L|{The development ...|Rajasthan Road Se...|[{01-OCT-2013, PA...|                 IDA|              Active|          South Asia|[{Rural and Inter...|{Rural and Inter-...|                NULL|                NULL|                NULL|[{TI, Rural and I...|            TI|  IBRD|Active|                   N|{Other rural deve...|[{79, Other rural...|            79|160000000|   160000000|http://www.worldb...|\n",
      "|{52b213b38594d8a2...|      2014|             October|2013-10-29T00:00:00Z|THE KINGDOM OF MO...|2014-12-31T00:00:00Z|Kingdom of Morocc...|         MA|  Kingdom of Morocco|           Morocco|Program Document,...|                    NULL|       0|  200000000|P130903|         0| MINISTRY OF FINANCE|Development Polic...|              AD|      200000000|[{Public Administ...|[{BX, Public Admi...|[Public sector go...|[{2, Public secto...|      2,2,2|      PE|            IBRD/IDA|              L|{The objective of...|MA Accountability...|[{30-SEP-2013, PG...|                IBRD|              Active|Middle East and N...|[{General public ...|{General public a...|{Central governme...|{Public administr...|                NULL|[{BZ, General pub...|      BM,BC,BZ|  IBRD|Active|                   N|{Other accountabi...|[{29, Other accou...|      27,30,29|200000000|   200000000|http://www.worldb...|\n",
      "|{52b213b38594d8a2...|      2014|             October|2013-10-25T00:00:00Z|GOVERNMENT OF SOU...|                NULL|Republic of South...|         SS|Republic of South...|       South Sudan|Project Paper,Pro...|                       B| 7530000|          0|P145339|         0|MINISTRY OF AGRIC...|Specific Investme...|              IN|        7530000|[{Agriculture, fi...|[{AX, Agriculture...| [Rural development]|[{10, Rural devel...|       10,2|      RE|Recipient Execute...|              L|{The development ...|Southern Sudan Em...|[{01-OCT-2013, PJ...|               OTHER|              Active|              Africa|[{Crops}, {Other ...|         {Crops, 50}|{Other social ser...|{General agricult...|                NULL|[{AH, Crops}, {JB...|      AZ,JB,AH|  IBRD|Active|                   Y|{Global food cris...|[{91, Global food...|            91|        0|     7530000|http://www.worldb...|\n",
      "|{52b213b38594d8a2...|      2014|             October|2013-10-25T00:00:00Z|                NULL|2017-12-31T00:00:00Z|Republic of India...|         IN|   Republic of India|             India|Project Appraisal...|                       B|       0|          0|P146653| 250000000|                NULL|Investment Projec...|              IN|      250000000|[{Transportation,...|[{TX, Transportat...|[Rural developmen...|[{10, Rural devel...|  10,6,6,11|      PE|            IBRD/IDA|              L|{The objective of...|Uttarakhand Disas...|[{11-OCT-2013, PA...|                 IDA|              Active|          South Asia|[{Rural and Inter...|{Rural and Inter-...|{Flood protection...|{Housing construc...|{Other social ser...|[{TI, Rural and I...|   JB,YC,WD,TI|  IBRD|Active|                   N|{Rural services a...|[{78, Rural servi...|   81,87,52,78|250000000|   250000000|http://www.worldb...|\n",
      "|{52b213b38594d8a2...|      2014|             October|2013-10-24T00:00:00Z| GOVERNMENT OF GHANA|2019-06-30T00:00:00Z|Republic of Ghana...|         GH|   Republic of Ghana|             Ghana|Project Appraisal...|                       C|       0|          0|P144140|  97000000|MINISTRY OF COMMU...|Specific Investme...|              IN|       97000000|[{Information and...|[{CX, Information...|                NULL|             [{4, }]|          4|      PE|            IBRD/IDA|              L|{The development ...| GH eTransform Ghana|[{26-SEP-2013, PA...|                 IDA|              Active|              Africa|[{General informa...|{General informat...|                NULL|                NULL|                NULL|[{CZ, General inf...|            CZ|  IBRD|Active|                   N|               {, 0}|                NULL|          NULL| 97000000|    97000000|http://www.worldb...|\n",
      "|{52b213b38594d8a2...|      2014|             October|2013-10-22T00:00:00Z|GOVERNMENT OF TIM...|                NULL|Democratic Republ...|         TP|Democratic Republ...|       Timor-Leste|Integrated Safegu...|                       B|       0|   15000000|P130975|  25000000|MINISTRY OF INFRA...|Specific Investme...|              IN|       92000000|[{Transportation,...|[{TX, Transportat...|[Trade and integr...|[{5, Trade and in...|    5,11,10|      PE|            IBRD/IDA|              L|{The development ...|Timor Leste Road ...|[{11-SEP-2012, IS...|                IBRD|              Active|East Asia and Pac...|[{Rural and Inter...|{Rural and Inter-...|{Public administr...|                NULL|                NULL|[{TI, Rural and I...|         BV,TI|  IBRD|Active|                   Y|{Regional integra...|[{47, Regional in...|      78,81,47| 40000000|    40000000|http://www.worldb...|\n",
      "|{52b213b38594d8a2...|      2014|             October|2013-10-22T00:00:00Z|GOVERNMENT OF JORDAN|                NULL|Hashemite Kingdom...|         JO|Hashemite Kingdom...|            Jordan|                NULL|                       C| 9500000|          0|P144832|         0|MINISTRY OF PLANN...|Technical Assista...|              IN|       10000000|[{Health and othe...|[{JX, Health and ...|[Social protectio...|[{6, Social prote...|      6,6,6|      RE|Recipient Execute...|              L|                NULL|NATIONAL UNIFIED ...|                NULL|               OTHER|              Active|Middle East and N...|[{Other social se...|{Other social ser...|                NULL|                NULL|                NULL|[{JB, Other socia...|            JB|  IBRD|Active|                   N|{Social safety ne...|[{54, Social safe...|      53,56,54|        0|     9500000|http://www.worldb...|\n",
      "|{52b213b38594d8a2...|      2014|             October|2013-10-17T00:00:00Z| MINISTRY OF FINANCE|2019-04-30T00:00:00Z|          Samoa!$!WS|         WS|               Samoa|             Samoa|Environmental Ass...|                       B|       0|          0|P145545|  20000000|LAND TRANSPORT AU...|Investment Projec...|              IN|       20000000|[{Transportation,...|[{TX, Transportat...|[Rural developmen...|[{10, Rural devel...|    10,11,5|      PE|            IBRD/IDA|              L|{The development ...|Enhanced Road Acc...|[{21-AUG-2013, EA...|                 IDA|              Active|East Asia and Pac...|[{Rural and Inter...|{Rural and Inter-...|                NULL|                NULL|                NULL|[{TI, Rural and I...|            TI|  IBRD|Active|                   N|{Rural services a...|[{78, Rural servi...|      49,81,78| 20000000|    20000000|http://www.worldb...|\n",
      "|{52b213b38594d8a2...|      2014|             October|2013-10-17T00:00:00Z| MINISTRY OF FINANCE|2015-12-31T00:00:00Z|          Samoa!$!WS|         WS|               Samoa|             Samoa|Project Appraisal...|                       B|       0|          0|P145938|   5000000|MINISTRY OF AGRIC...|Investment Projec...|              IN|        5000000|[{Agriculture, fi...|[{AX, Agriculture...| [Rural development]|[{10, Rural devel...|       10,2|      PE|            IBRD/IDA|              L|{The development ...|Samoa Agriculture...|[{19-SEP-2013, PA...|                 IDA|              Active|East Asia and Pac...|[{Crops}, {Animal...|         {Crops, 50}|{Animal productio...|{General agricult...|                NULL|[{AH, Crops}, {AJ...|      AZ,AJ,AH|  IBRD|Active|                   N|{Other rural deve...|[{79, Other rural...|            79|  5000000|     5000000|http://www.worldb...|\n",
      "|{52b213b38594d8a2...|      2014|             October|2013-10-16T00:00:00Z|MINISTRY OF FINAN...|                NULL|Republic of Madag...|         MG|Republic of Madag...|        Madagascar|Integrated Safegu...|                       B|85400000|          0|P132616|         0|MINISTRY OF EDUCA...|Emergency Recover...|              IN|       85400000|  [{Education, 100}]|   [{EX, Education}]| [Human development]|[{8, Human develo...|        8,7|      RE|Recipient Execute...|              L|                NULL|Emergency Support...|[{21-SEP-2013, IS...|               OTHER|              Active|              Africa|[{Primary educati...|{Primary educatio...|                NULL|                NULL|                NULL|[{EP, Primary edu...|            EP|  IBRD|Active|                   N|{Education for al...|[{65, Education f...|            65|        0|    85400000|http://www.worldb...|\n",
      "|{52b213b38594d8a2...|      2014|             October|2013-10-16T00:00:00Z|ROYAL GOVERNMENT ...|                NULL|Kingdom of Cambod...|         KH| Kingdom of Cambodia|          Cambodia|Project Informati...|                       B|13450000|          0|P146271|         0|  MINISTRY OF HEALTH|Investment Projec...|              IN|       13450000|[{Health and othe...|[{JX, Health and ...|[Human developmen...|[{8, Human develo...|  8,8,2,7,8|      RE|Recipient Execute...|              L|                NULL|Additional Financ...|[{14-OCT-2013, PI...|               OTHER|              Active|East Asia and Pac...|[{Health}, {Centr...|        {Health, 44}|{Central governme...|{Sub-national gov...|{Other social ser...|[{JA, Health}, {B...|BK,JB,BH,BC,JA|  IBRD|Active|                   Y|  {Child health, 17}|[{63, Child healt...|69,57,25,67,63|        0|    13450000|http://www.worldb...|\n",
      "|{52b213b38594d8a2...|      2014|             October|2013-10-10T00:00:00Z| MINISTRY OF FINANCE|                NULL|Kingdom of Morocc...|         MA|  Kingdom of Morocco|           Morocco|Project Informati...|                       C| 4350000|          0|P143979|         0| MINISTRY OF FINANCE|Specific Investme...|              IN|        4550000|[{Public Administ...|[{BX, Public Admi...|[Public sector go...|[{2, Public secto...|      2,2,2|      RE|Recipient Execute...|              L|                NULL|DTF:MA- Support N...|[{23-JAN-2013, PI...|               OTHER|              Active|Middle East and N...|[{General public ...|{General public a...|{Central governme...|{Sub-national gov...|                NULL|[{BZ, General pub...|      BH,BC,BZ|  IBRD|Active|                   N|{Public expenditu...|[{27, Public expe...|      25,26,27|        0|     4350000|http://www.worldb...|\n",
      "+--------------------+----------+--------------------+--------------------+--------------------+--------------------+--------------------+-----------+--------------------+------------------+--------------------+------------------------+--------+-----------+-------+----------+--------------------+--------------------+----------------+---------------+--------------------+--------------------+--------------------+--------------------+-----------+--------+--------------------+---------------+--------------------+--------------------+--------------------+--------------------+--------------------+--------------------+--------------------+--------------------+--------------------+--------------------+--------------------+--------------------+--------------+------+------+--------------------+--------------------+--------------------+--------------+---------+------------+--------------------+\n",
      "only showing top 20 rows\n",
      "\n"
     ]
    },
    {
     "name": "stderr",
     "output_type": "stream",
     "text": [
      "                                                                                \r"
     ]
    }
   ],
   "source": [
    "df.show()"
   ]
  },
  {
   "cell_type": "code",
   "execution_count": 12,
   "id": "409fee10-4126-4019-9133-66d058fd9cdc",
   "metadata": {},
   "outputs": [
    {
     "name": "stderr",
     "output_type": "stream",
     "text": [
      "                                                                                \r"
     ]
    }
   ],
   "source": [
    "df_sigh = sqlContext.read.format(\"com.databricks.spark.csv\").option(\"header\", \"true\").option(\"inferSchema\", \"true\").load(file_name)"
   ]
  },
  {
   "cell_type": "code",
   "execution_count": 15,
   "id": "e821e793-5374-4622-af07-88717ff5b596",
   "metadata": {},
   "outputs": [
    {
     "name": "stdout",
     "output_type": "stream",
     "text": [
      "root\n",
      " |-- _id: struct (nullable = true)\n",
      " |    |-- $oid: string (nullable = true)\n",
      " |-- approvalfy: string (nullable = true)\n",
      " |-- board_approval_month: string (nullable = true)\n",
      " |-- boardapprovaldate: string (nullable = true)\n",
      " |-- borrower: string (nullable = true)\n",
      " |-- closingdate: string (nullable = true)\n",
      " |-- country_namecode: string (nullable = true)\n",
      " |-- countrycode: string (nullable = true)\n",
      " |-- countryname: string (nullable = true)\n",
      " |-- countryshortname: string (nullable = true)\n",
      " |-- docty: string (nullable = true)\n",
      " |-- envassesmentcategorycode: string (nullable = true)\n",
      " |-- grantamt: long (nullable = true)\n",
      " |-- ibrdcommamt: long (nullable = true)\n",
      " |-- id: string (nullable = true)\n",
      " |-- idacommamt: long (nullable = true)\n",
      " |-- impagency: string (nullable = true)\n",
      " |-- lendinginstr: string (nullable = true)\n",
      " |-- lendinginstrtype: string (nullable = true)\n",
      " |-- lendprojectcost: long (nullable = true)\n",
      " |-- majorsector_percent: array (nullable = true)\n",
      " |    |-- element: struct (containsNull = true)\n",
      " |    |    |-- Name: string (nullable = true)\n",
      " |    |    |-- Percent: long (nullable = true)\n",
      " |-- mjsector_namecode: array (nullable = true)\n",
      " |    |-- element: struct (containsNull = true)\n",
      " |    |    |-- code: string (nullable = true)\n",
      " |    |    |-- name: string (nullable = true)\n",
      " |-- mjtheme: array (nullable = true)\n",
      " |    |-- element: string (containsNull = true)\n",
      " |-- mjtheme_namecode: array (nullable = true)\n",
      " |    |-- element: struct (containsNull = true)\n",
      " |    |    |-- code: string (nullable = true)\n",
      " |    |    |-- name: string (nullable = true)\n",
      " |-- mjthemecode: string (nullable = true)\n",
      " |-- prodline: string (nullable = true)\n",
      " |-- prodlinetext: string (nullable = true)\n",
      " |-- productlinetype: string (nullable = true)\n",
      " |-- project_abstract: struct (nullable = true)\n",
      " |    |-- cdata: string (nullable = true)\n",
      " |-- project_name: string (nullable = true)\n",
      " |-- projectdocs: array (nullable = true)\n",
      " |    |-- element: struct (containsNull = true)\n",
      " |    |    |-- DocDate: string (nullable = true)\n",
      " |    |    |-- DocType: string (nullable = true)\n",
      " |    |    |-- DocTypeDesc: string (nullable = true)\n",
      " |    |    |-- DocURL: string (nullable = true)\n",
      " |    |    |-- EntityID: string (nullable = true)\n",
      " |-- projectfinancialtype: string (nullable = true)\n",
      " |-- projectstatusdisplay: string (nullable = true)\n",
      " |-- regionname: string (nullable = true)\n",
      " |-- sector: array (nullable = true)\n",
      " |    |-- element: struct (containsNull = true)\n",
      " |    |    |-- Name: string (nullable = true)\n",
      " |-- sector1: struct (nullable = true)\n",
      " |    |-- Name: string (nullable = true)\n",
      " |    |-- Percent: long (nullable = true)\n",
      " |-- sector2: struct (nullable = true)\n",
      " |    |-- Name: string (nullable = true)\n",
      " |    |-- Percent: long (nullable = true)\n",
      " |-- sector3: struct (nullable = true)\n",
      " |    |-- Name: string (nullable = true)\n",
      " |    |-- Percent: long (nullable = true)\n",
      " |-- sector4: struct (nullable = true)\n",
      " |    |-- Name: string (nullable = true)\n",
      " |    |-- Percent: long (nullable = true)\n",
      " |-- sector_namecode: array (nullable = true)\n",
      " |    |-- element: struct (containsNull = true)\n",
      " |    |    |-- code: string (nullable = true)\n",
      " |    |    |-- name: string (nullable = true)\n",
      " |-- sectorcode: string (nullable = true)\n",
      " |-- source: string (nullable = true)\n",
      " |-- status: string (nullable = true)\n",
      " |-- supplementprojectflg: string (nullable = true)\n",
      " |-- theme1: struct (nullable = true)\n",
      " |    |-- Name: string (nullable = true)\n",
      " |    |-- Percent: long (nullable = true)\n",
      " |-- theme_namecode: array (nullable = true)\n",
      " |    |-- element: struct (containsNull = true)\n",
      " |    |    |-- code: string (nullable = true)\n",
      " |    |    |-- name: string (nullable = true)\n",
      " |-- themecode: string (nullable = true)\n",
      " |-- totalamt: long (nullable = true)\n",
      " |-- totalcommamt: long (nullable = true)\n",
      " |-- url: string (nullable = true)\n",
      "\n"
     ]
    }
   ],
   "source": [
    "df.printSchema()"
   ]
  },
  {
   "cell_type": "code",
   "execution_count": 14,
   "id": "8075eab9-5a9e-44c8-8205-7bef1d9ef279",
   "metadata": {},
   "outputs": [
    {
     "name": "stderr",
     "output_type": "stream",
     "text": [
      "/home/hadoop/spark-3.5.1-bin-hadoop3/python/pyspark/sql/dataframe.py:329: FutureWarning: Deprecated in 2.0, use createOrReplaceTempView instead.\n",
      "  warnings.warn(\"Deprecated in 2.0, use createOrReplaceTempView instead.\", FutureWarning)\n"
     ]
    }
   ],
   "source": [
    "df.registerTempTable(\"world_bank\")"
   ]
  },
  {
   "cell_type": "code",
   "execution_count": 18,
   "id": "dc987069-c945-42b4-9318-0728e4ae345e",
   "metadata": {},
   "outputs": [],
   "source": [
    "df_wb = sqlContext.sql(\"select _id, board_approval_month, boardapprovaldate from world_bank\")"
   ]
  },
  {
   "cell_type": "code",
   "execution_count": 19,
   "id": "6a023706-57e1-40ec-b74d-87e32815f3bf",
   "metadata": {},
   "outputs": [
    {
     "name": "stdout",
     "output_type": "stream",
     "text": [
      "+--------------------+--------------------+--------------------+\n",
      "|                 _id|board_approval_month|   boardapprovaldate|\n",
      "+--------------------+--------------------+--------------------+\n",
      "|{52b213b38594d8a2...|            November|2013-11-12T00:00:00Z|\n",
      "|{52b213b38594d8a2...|            November|2013-11-04T00:00:00Z|\n",
      "|{52b213b38594d8a2...|            November|2013-11-01T00:00:00Z|\n",
      "|{52b213b38594d8a2...|             October|2013-10-31T00:00:00Z|\n",
      "|{52b213b38594d8a2...|             October|2013-10-31T00:00:00Z|\n",
      "|{52b213b38594d8a2...|             October|2013-10-31T00:00:00Z|\n",
      "|{52b213b38594d8a2...|             October|2013-10-29T00:00:00Z|\n",
      "|{52b213b38594d8a2...|             October|2013-10-29T00:00:00Z|\n",
      "|{52b213b38594d8a2...|             October|2013-10-29T00:00:00Z|\n",
      "|{52b213b38594d8a2...|             October|2013-10-29T00:00:00Z|\n",
      "|{52b213b38594d8a2...|             October|2013-10-25T00:00:00Z|\n",
      "|{52b213b38594d8a2...|             October|2013-10-25T00:00:00Z|\n",
      "|{52b213b38594d8a2...|             October|2013-10-24T00:00:00Z|\n",
      "|{52b213b38594d8a2...|             October|2013-10-22T00:00:00Z|\n",
      "|{52b213b38594d8a2...|             October|2013-10-22T00:00:00Z|\n",
      "|{52b213b38594d8a2...|             October|2013-10-17T00:00:00Z|\n",
      "|{52b213b38594d8a2...|             October|2013-10-17T00:00:00Z|\n",
      "|{52b213b38594d8a2...|             October|2013-10-16T00:00:00Z|\n",
      "|{52b213b38594d8a2...|             October|2013-10-16T00:00:00Z|\n",
      "|{52b213b38594d8a2...|             October|2013-10-10T00:00:00Z|\n",
      "+--------------------+--------------------+--------------------+\n",
      "only showing top 20 rows\n",
      "\n"
     ]
    }
   ],
   "source": [
    "df_wb.show()"
   ]
  },
  {
   "cell_type": "code",
   "execution_count": 21,
   "id": "0230ac79-00d3-460c-b964-a51c68908270",
   "metadata": {},
   "outputs": [
    {
     "name": "stderr",
     "output_type": "stream",
     "text": [
      "                                                                                \r"
     ]
    },
    {
     "data": {
      "text/html": [
       "<div>\n",
       "<style scoped>\n",
       "    .dataframe tbody tr th:only-of-type {\n",
       "        vertical-align: middle;\n",
       "    }\n",
       "\n",
       "    .dataframe tbody tr th {\n",
       "        vertical-align: top;\n",
       "    }\n",
       "\n",
       "    .dataframe thead th {\n",
       "        text-align: right;\n",
       "    }\n",
       "</style>\n",
       "<table border=\"1\" class=\"dataframe\">\n",
       "  <thead>\n",
       "    <tr style=\"text-align: right;\">\n",
       "      <th></th>\n",
       "      <th>_id</th>\n",
       "      <th>approvalfy</th>\n",
       "      <th>board_approval_month</th>\n",
       "      <th>boardapprovaldate</th>\n",
       "      <th>borrower</th>\n",
       "      <th>closingdate</th>\n",
       "      <th>country_namecode</th>\n",
       "      <th>countrycode</th>\n",
       "      <th>countryname</th>\n",
       "      <th>countryshortname</th>\n",
       "      <th>...</th>\n",
       "      <th>sectorcode</th>\n",
       "      <th>source</th>\n",
       "      <th>status</th>\n",
       "      <th>supplementprojectflg</th>\n",
       "      <th>theme1</th>\n",
       "      <th>theme_namecode</th>\n",
       "      <th>themecode</th>\n",
       "      <th>totalamt</th>\n",
       "      <th>totalcommamt</th>\n",
       "      <th>url</th>\n",
       "    </tr>\n",
       "  </thead>\n",
       "  <tbody>\n",
       "    <tr>\n",
       "      <th>0</th>\n",
       "      <td>(52b213b38594d8a2be17c780,)</td>\n",
       "      <td>1999</td>\n",
       "      <td>November</td>\n",
       "      <td>2013-11-12T00:00:00Z</td>\n",
       "      <td>FEDERAL DEMOCRATIC REPUBLIC OF ETHIOPIA</td>\n",
       "      <td>2018-07-07T00:00:00Z</td>\n",
       "      <td>Federal Democratic Republic of Ethiopia!$!ET</td>\n",
       "      <td>ET</td>\n",
       "      <td>Federal Democratic Republic of Ethiopia</td>\n",
       "      <td>Ethiopia</td>\n",
       "      <td>...</td>\n",
       "      <td>ET,BS,ES,EP</td>\n",
       "      <td>IBRD</td>\n",
       "      <td>Active</td>\n",
       "      <td>N</td>\n",
       "      <td>(Education for all, 100)</td>\n",
       "      <td>[(65, Education for all)]</td>\n",
       "      <td>65</td>\n",
       "      <td>130000000</td>\n",
       "      <td>130000000</td>\n",
       "      <td>http://www.worldbank.org/projects/P129828/ethi...</td>\n",
       "    </tr>\n",
       "    <tr>\n",
       "      <th>1</th>\n",
       "      <td>(52b213b38594d8a2be17c781,)</td>\n",
       "      <td>2015</td>\n",
       "      <td>November</td>\n",
       "      <td>2013-11-04T00:00:00Z</td>\n",
       "      <td>GOVERNMENT OF TUNISIA</td>\n",
       "      <td>None</td>\n",
       "      <td>Republic of Tunisia!$!TN</td>\n",
       "      <td>TN</td>\n",
       "      <td>Republic of Tunisia</td>\n",
       "      <td>Tunisia</td>\n",
       "      <td>...</td>\n",
       "      <td>BZ,BS</td>\n",
       "      <td>IBRD</td>\n",
       "      <td>Active</td>\n",
       "      <td>N</td>\n",
       "      <td>(Other economic management, 30)</td>\n",
       "      <td>[(24, Other economic management), (54, Social ...</td>\n",
       "      <td>54,24</td>\n",
       "      <td>0</td>\n",
       "      <td>4700000</td>\n",
       "      <td>http://www.worldbank.org/projects/P144674?lang=en</td>\n",
       "    </tr>\n",
       "    <tr>\n",
       "      <th>2</th>\n",
       "      <td>(52b213b38594d8a2be17c782,)</td>\n",
       "      <td>2014</td>\n",
       "      <td>November</td>\n",
       "      <td>2013-11-01T00:00:00Z</td>\n",
       "      <td>MINISTRY OF FINANCE AND ECONOMIC DEVEL</td>\n",
       "      <td>None</td>\n",
       "      <td>Tuvalu!$!TV</td>\n",
       "      <td>TV</td>\n",
       "      <td>Tuvalu</td>\n",
       "      <td>Tuvalu</td>\n",
       "      <td>...</td>\n",
       "      <td>TI</td>\n",
       "      <td>IBRD</td>\n",
       "      <td>Active</td>\n",
       "      <td>Y</td>\n",
       "      <td>(Regional integration, 46)</td>\n",
       "      <td>[(47, Regional integration), (25, Administrati...</td>\n",
       "      <td>52,81,25,47</td>\n",
       "      <td>6060000</td>\n",
       "      <td>6060000</td>\n",
       "      <td>http://www.worldbank.org/projects/P145310?lang=en</td>\n",
       "    </tr>\n",
       "    <tr>\n",
       "      <th>3</th>\n",
       "      <td>(52b213b38594d8a2be17c783,)</td>\n",
       "      <td>2014</td>\n",
       "      <td>October</td>\n",
       "      <td>2013-10-31T00:00:00Z</td>\n",
       "      <td>MIN. OF PLANNING AND INT'L COOPERATION</td>\n",
       "      <td>None</td>\n",
       "      <td>Republic of Yemen!$!RY</td>\n",
       "      <td>RY</td>\n",
       "      <td>Republic of Yemen</td>\n",
       "      <td>Yemen, Republic of</td>\n",
       "      <td>...</td>\n",
       "      <td>JB</td>\n",
       "      <td>IBRD</td>\n",
       "      <td>Active</td>\n",
       "      <td>N</td>\n",
       "      <td>(Participation and civic engagement, 50)</td>\n",
       "      <td>[(57, Participation and civic engagement), (59...</td>\n",
       "      <td>59,57</td>\n",
       "      <td>0</td>\n",
       "      <td>1500000</td>\n",
       "      <td>http://www.worldbank.org/projects/P144665?lang=en</td>\n",
       "    </tr>\n",
       "    <tr>\n",
       "      <th>4</th>\n",
       "      <td>(52b213b38594d8a2be17c784,)</td>\n",
       "      <td>2014</td>\n",
       "      <td>October</td>\n",
       "      <td>2013-10-31T00:00:00Z</td>\n",
       "      <td>MINISTRY OF FINANCE</td>\n",
       "      <td>2019-04-30T00:00:00Z</td>\n",
       "      <td>Kingdom of Lesotho!$!LS</td>\n",
       "      <td>LS</td>\n",
       "      <td>Kingdom of Lesotho</td>\n",
       "      <td>Lesotho</td>\n",
       "      <td>...</td>\n",
       "      <td>FH,YW,YZ</td>\n",
       "      <td>IBRD</td>\n",
       "      <td>Active</td>\n",
       "      <td>N</td>\n",
       "      <td>(Export development and competitiveness, 30)</td>\n",
       "      <td>[(45, Export development and competitiveness),...</td>\n",
       "      <td>41,45</td>\n",
       "      <td>13100000</td>\n",
       "      <td>13100000</td>\n",
       "      <td>http://www.worldbank.org/projects/P144933/seco...</td>\n",
       "    </tr>\n",
       "    <tr>\n",
       "      <th>...</th>\n",
       "      <td>...</td>\n",
       "      <td>...</td>\n",
       "      <td>...</td>\n",
       "      <td>...</td>\n",
       "      <td>...</td>\n",
       "      <td>...</td>\n",
       "      <td>...</td>\n",
       "      <td>...</td>\n",
       "      <td>...</td>\n",
       "      <td>...</td>\n",
       "      <td>...</td>\n",
       "      <td>...</td>\n",
       "      <td>...</td>\n",
       "      <td>...</td>\n",
       "      <td>...</td>\n",
       "      <td>...</td>\n",
       "      <td>...</td>\n",
       "      <td>...</td>\n",
       "      <td>...</td>\n",
       "      <td>...</td>\n",
       "      <td>...</td>\n",
       "    </tr>\n",
       "    <tr>\n",
       "      <th>495</th>\n",
       "      <td>(52b213b38594d8a2be17c96f,)</td>\n",
       "      <td>2013</td>\n",
       "      <td>August</td>\n",
       "      <td>2012-08-10T00:00:00Z</td>\n",
       "      <td>THE COMPETITIVENESS COMPANY</td>\n",
       "      <td>2013-08-31T00:00:00Z</td>\n",
       "      <td>Jamaica!$!JM</td>\n",
       "      <td>JM</td>\n",
       "      <td>Jamaica</td>\n",
       "      <td>Jamaica</td>\n",
       "      <td>...</td>\n",
       "      <td>EV,AZ</td>\n",
       "      <td>IBRD</td>\n",
       "      <td>Closed</td>\n",
       "      <td>N</td>\n",
       "      <td>(Regulation and competition policy, 50)</td>\n",
       "      <td>[(40, Regulation and competition policy), (62,...</td>\n",
       "      <td>62,40</td>\n",
       "      <td>0</td>\n",
       "      <td>50000</td>\n",
       "      <td>http://www.worldbank.org/projects/P127299/tech...</td>\n",
       "    </tr>\n",
       "    <tr>\n",
       "      <th>496</th>\n",
       "      <td>(52b213b38594d8a2be17c970,)</td>\n",
       "      <td>2013</td>\n",
       "      <td>August</td>\n",
       "      <td>2012-08-09T00:00:00Z</td>\n",
       "      <td>LAO PEOPLES DEMOCRATIC REPUBLIC</td>\n",
       "      <td>2012-12-31T00:00:00Z</td>\n",
       "      <td>Lao People's Democratic Republic!$!LA</td>\n",
       "      <td>LA</td>\n",
       "      <td>Lao People's Democratic Republic</td>\n",
       "      <td>Lao People's Democratic Republic</td>\n",
       "      <td>...</td>\n",
       "      <td>YZ,JA,EZ,FZ,BC</td>\n",
       "      <td>IBRD</td>\n",
       "      <td>Closed</td>\n",
       "      <td>N</td>\n",
       "      <td>(Child health, 14)</td>\n",
       "      <td>[(63, Child health), (49, Trade facilitation a...</td>\n",
       "      <td>65,27,49,63</td>\n",
       "      <td>20000000</td>\n",
       "      <td>20000000</td>\n",
       "      <td>http://www.worldbank.org/projects/P125298/lao-...</td>\n",
       "    </tr>\n",
       "    <tr>\n",
       "      <th>497</th>\n",
       "      <td>(52b213b38594d8a2be17c971,)</td>\n",
       "      <td>2013</td>\n",
       "      <td>August</td>\n",
       "      <td>2012-08-03T00:00:00Z</td>\n",
       "      <td>GOVERNMENT OF THE REPUBLIC OF GUINEA</td>\n",
       "      <td>2014-12-31T00:00:00Z</td>\n",
       "      <td>Republic of Guinea!$!GN</td>\n",
       "      <td>GN</td>\n",
       "      <td>Republic of Guinea</td>\n",
       "      <td>Guinea</td>\n",
       "      <td>...</td>\n",
       "      <td>AB,AH,AI</td>\n",
       "      <td>IBRD</td>\n",
       "      <td>Active</td>\n",
       "      <td>N</td>\n",
       "      <td>(Global food crisis response, 100)</td>\n",
       "      <td>[(91, Global food crisis response)]</td>\n",
       "      <td>91</td>\n",
       "      <td>0</td>\n",
       "      <td>20000000</td>\n",
       "      <td>http://www.worldbank.org/projects/P128309/seco...</td>\n",
       "    </tr>\n",
       "    <tr>\n",
       "      <th>498</th>\n",
       "      <td>(52b213b38594d8a2be17c972,)</td>\n",
       "      <td>2013</td>\n",
       "      <td>August</td>\n",
       "      <td>2012-08-02T00:00:00Z</td>\n",
       "      <td>REPUBLIC OF INDONESIA</td>\n",
       "      <td>2017-09-30T00:00:00Z</td>\n",
       "      <td>Republic of Indonesia!$!ID</td>\n",
       "      <td>ID</td>\n",
       "      <td>Republic of Indonesia</td>\n",
       "      <td>Indonesia</td>\n",
       "      <td>...</td>\n",
       "      <td>YA,BL,AB</td>\n",
       "      <td>IBRD</td>\n",
       "      <td>Active</td>\n",
       "      <td>N</td>\n",
       "      <td>(Rural services and infrastructure, 85)</td>\n",
       "      <td>[(78, Rural services and infrastructure), (91,...</td>\n",
       "      <td>77,91,78</td>\n",
       "      <td>80000000</td>\n",
       "      <td>80000000</td>\n",
       "      <td>http://www.worldbank.org/projects/P117243/sust...</td>\n",
       "    </tr>\n",
       "    <tr>\n",
       "      <th>499</th>\n",
       "      <td>(52b213b38594d8a2be17c973,)</td>\n",
       "      <td>2013</td>\n",
       "      <td>August</td>\n",
       "      <td>2012-08-02T00:00:00Z</td>\n",
       "      <td>GOVERMENT OF KENYA</td>\n",
       "      <td>2018-12-31T00:00:00Z</td>\n",
       "      <td>Republic of Kenya!$!KE</td>\n",
       "      <td>KE</td>\n",
       "      <td>Republic of Kenya</td>\n",
       "      <td>Kenya</td>\n",
       "      <td>...</td>\n",
       "      <td>BV,TC</td>\n",
       "      <td>IBRD</td>\n",
       "      <td>Active</td>\n",
       "      <td>N</td>\n",
       "      <td>(Municipal governance and institution building...</td>\n",
       "      <td>[(73, Municipal governance and institution bui...</td>\n",
       "      <td>39,49,88,73</td>\n",
       "      <td>300000000</td>\n",
       "      <td>300000000</td>\n",
       "      <td>http://www.worldbank.org/projects/P126321/keny...</td>\n",
       "    </tr>\n",
       "  </tbody>\n",
       "</table>\n",
       "<p>500 rows × 50 columns</p>\n",
       "</div>"
      ],
      "text/plain": [
       "                             _id approvalfy board_approval_month  \\\n",
       "0    (52b213b38594d8a2be17c780,)       1999             November   \n",
       "1    (52b213b38594d8a2be17c781,)       2015             November   \n",
       "2    (52b213b38594d8a2be17c782,)       2014             November   \n",
       "3    (52b213b38594d8a2be17c783,)       2014              October   \n",
       "4    (52b213b38594d8a2be17c784,)       2014              October   \n",
       "..                           ...        ...                  ...   \n",
       "495  (52b213b38594d8a2be17c96f,)       2013               August   \n",
       "496  (52b213b38594d8a2be17c970,)       2013               August   \n",
       "497  (52b213b38594d8a2be17c971,)       2013               August   \n",
       "498  (52b213b38594d8a2be17c972,)       2013               August   \n",
       "499  (52b213b38594d8a2be17c973,)       2013               August   \n",
       "\n",
       "        boardapprovaldate                                 borrower  \\\n",
       "0    2013-11-12T00:00:00Z  FEDERAL DEMOCRATIC REPUBLIC OF ETHIOPIA   \n",
       "1    2013-11-04T00:00:00Z                    GOVERNMENT OF TUNISIA   \n",
       "2    2013-11-01T00:00:00Z   MINISTRY OF FINANCE AND ECONOMIC DEVEL   \n",
       "3    2013-10-31T00:00:00Z   MIN. OF PLANNING AND INT'L COOPERATION   \n",
       "4    2013-10-31T00:00:00Z                      MINISTRY OF FINANCE   \n",
       "..                    ...                                      ...   \n",
       "495  2012-08-10T00:00:00Z              THE COMPETITIVENESS COMPANY   \n",
       "496  2012-08-09T00:00:00Z          LAO PEOPLES DEMOCRATIC REPUBLIC   \n",
       "497  2012-08-03T00:00:00Z     GOVERNMENT OF THE REPUBLIC OF GUINEA   \n",
       "498  2012-08-02T00:00:00Z                    REPUBLIC OF INDONESIA   \n",
       "499  2012-08-02T00:00:00Z                       GOVERMENT OF KENYA   \n",
       "\n",
       "              closingdate                              country_namecode  \\\n",
       "0    2018-07-07T00:00:00Z  Federal Democratic Republic of Ethiopia!$!ET   \n",
       "1                    None                      Republic of Tunisia!$!TN   \n",
       "2                    None                                   Tuvalu!$!TV   \n",
       "3                    None                        Republic of Yemen!$!RY   \n",
       "4    2019-04-30T00:00:00Z                       Kingdom of Lesotho!$!LS   \n",
       "..                    ...                                           ...   \n",
       "495  2013-08-31T00:00:00Z                                  Jamaica!$!JM   \n",
       "496  2012-12-31T00:00:00Z         Lao People's Democratic Republic!$!LA   \n",
       "497  2014-12-31T00:00:00Z                       Republic of Guinea!$!GN   \n",
       "498  2017-09-30T00:00:00Z                    Republic of Indonesia!$!ID   \n",
       "499  2018-12-31T00:00:00Z                        Republic of Kenya!$!KE   \n",
       "\n",
       "    countrycode                              countryname  \\\n",
       "0            ET  Federal Democratic Republic of Ethiopia   \n",
       "1            TN                      Republic of Tunisia   \n",
       "2            TV                                   Tuvalu   \n",
       "3            RY                        Republic of Yemen   \n",
       "4            LS                       Kingdom of Lesotho   \n",
       "..          ...                                      ...   \n",
       "495          JM                                  Jamaica   \n",
       "496          LA         Lao People's Democratic Republic   \n",
       "497          GN                       Republic of Guinea   \n",
       "498          ID                    Republic of Indonesia   \n",
       "499          KE                        Republic of Kenya   \n",
       "\n",
       "                     countryshortname  ...      sectorcode source  status  \\\n",
       "0                            Ethiopia  ...     ET,BS,ES,EP   IBRD  Active   \n",
       "1                             Tunisia  ...           BZ,BS   IBRD  Active   \n",
       "2                              Tuvalu  ...              TI   IBRD  Active   \n",
       "3                  Yemen, Republic of  ...              JB   IBRD  Active   \n",
       "4                             Lesotho  ...        FH,YW,YZ   IBRD  Active   \n",
       "..                                ...  ...             ...    ...     ...   \n",
       "495                           Jamaica  ...           EV,AZ   IBRD  Closed   \n",
       "496  Lao People's Democratic Republic  ...  YZ,JA,EZ,FZ,BC   IBRD  Closed   \n",
       "497                            Guinea  ...        AB,AH,AI   IBRD  Active   \n",
       "498                         Indonesia  ...        YA,BL,AB   IBRD  Active   \n",
       "499                             Kenya  ...           BV,TC   IBRD  Active   \n",
       "\n",
       "     supplementprojectflg                                             theme1  \\\n",
       "0                       N                           (Education for all, 100)   \n",
       "1                       N                    (Other economic management, 30)   \n",
       "2                       Y                         (Regional integration, 46)   \n",
       "3                       N           (Participation and civic engagement, 50)   \n",
       "4                       N       (Export development and competitiveness, 30)   \n",
       "..                    ...                                                ...   \n",
       "495                     N            (Regulation and competition policy, 50)   \n",
       "496                     N                                 (Child health, 14)   \n",
       "497                     N                 (Global food crisis response, 100)   \n",
       "498                     N            (Rural services and infrastructure, 85)   \n",
       "499                     N  (Municipal governance and institution building...   \n",
       "\n",
       "                                        theme_namecode    themecode  \\\n",
       "0                            [(65, Education for all)]           65   \n",
       "1    [(24, Other economic management), (54, Social ...        54,24   \n",
       "2    [(47, Regional integration), (25, Administrati...  52,81,25,47   \n",
       "3    [(57, Participation and civic engagement), (59...        59,57   \n",
       "4    [(45, Export development and competitiveness),...        41,45   \n",
       "..                                                 ...          ...   \n",
       "495  [(40, Regulation and competition policy), (62,...        62,40   \n",
       "496  [(63, Child health), (49, Trade facilitation a...  65,27,49,63   \n",
       "497                [(91, Global food crisis response)]           91   \n",
       "498  [(78, Rural services and infrastructure), (91,...     77,91,78   \n",
       "499  [(73, Municipal governance and institution bui...  39,49,88,73   \n",
       "\n",
       "      totalamt totalcommamt                                                url  \n",
       "0    130000000    130000000  http://www.worldbank.org/projects/P129828/ethi...  \n",
       "1            0      4700000  http://www.worldbank.org/projects/P144674?lang=en  \n",
       "2      6060000      6060000  http://www.worldbank.org/projects/P145310?lang=en  \n",
       "3            0      1500000  http://www.worldbank.org/projects/P144665?lang=en  \n",
       "4     13100000     13100000  http://www.worldbank.org/projects/P144933/seco...  \n",
       "..         ...          ...                                                ...  \n",
       "495          0        50000  http://www.worldbank.org/projects/P127299/tech...  \n",
       "496   20000000     20000000  http://www.worldbank.org/projects/P125298/lao-...  \n",
       "497          0     20000000  http://www.worldbank.org/projects/P128309/seco...  \n",
       "498   80000000     80000000  http://www.worldbank.org/projects/P117243/sust...  \n",
       "499  300000000    300000000  http://www.worldbank.org/projects/P126321/keny...  \n",
       "\n",
       "[500 rows x 50 columns]"
      ]
     },
     "execution_count": 21,
     "metadata": {},
     "output_type": "execute_result"
    }
   ],
   "source": [
    "df.toPandas()"
   ]
  },
  {
   "cell_type": "code",
   "execution_count": 22,
   "id": "c75c180e-8bb7-48cc-834c-84557cff5676",
   "metadata": {},
   "outputs": [
    {
     "data": {
      "text/html": [
       "<div>\n",
       "<style scoped>\n",
       "    .dataframe tbody tr th:only-of-type {\n",
       "        vertical-align: middle;\n",
       "    }\n",
       "\n",
       "    .dataframe tbody tr th {\n",
       "        vertical-align: top;\n",
       "    }\n",
       "\n",
       "    .dataframe thead th {\n",
       "        text-align: right;\n",
       "    }\n",
       "</style>\n",
       "<table border=\"1\" class=\"dataframe\">\n",
       "  <thead>\n",
       "    <tr style=\"text-align: right;\">\n",
       "      <th></th>\n",
       "      <th>_id</th>\n",
       "      <th>board_approval_month</th>\n",
       "      <th>boardapprovaldate</th>\n",
       "    </tr>\n",
       "  </thead>\n",
       "  <tbody>\n",
       "    <tr>\n",
       "      <th>0</th>\n",
       "      <td>(52b213b38594d8a2be17c780,)</td>\n",
       "      <td>November</td>\n",
       "      <td>2013-11-12T00:00:00Z</td>\n",
       "    </tr>\n",
       "    <tr>\n",
       "      <th>1</th>\n",
       "      <td>(52b213b38594d8a2be17c781,)</td>\n",
       "      <td>November</td>\n",
       "      <td>2013-11-04T00:00:00Z</td>\n",
       "    </tr>\n",
       "    <tr>\n",
       "      <th>2</th>\n",
       "      <td>(52b213b38594d8a2be17c782,)</td>\n",
       "      <td>November</td>\n",
       "      <td>2013-11-01T00:00:00Z</td>\n",
       "    </tr>\n",
       "    <tr>\n",
       "      <th>3</th>\n",
       "      <td>(52b213b38594d8a2be17c783,)</td>\n",
       "      <td>October</td>\n",
       "      <td>2013-10-31T00:00:00Z</td>\n",
       "    </tr>\n",
       "    <tr>\n",
       "      <th>4</th>\n",
       "      <td>(52b213b38594d8a2be17c784,)</td>\n",
       "      <td>October</td>\n",
       "      <td>2013-10-31T00:00:00Z</td>\n",
       "    </tr>\n",
       "    <tr>\n",
       "      <th>...</th>\n",
       "      <td>...</td>\n",
       "      <td>...</td>\n",
       "      <td>...</td>\n",
       "    </tr>\n",
       "    <tr>\n",
       "      <th>495</th>\n",
       "      <td>(52b213b38594d8a2be17c96f,)</td>\n",
       "      <td>August</td>\n",
       "      <td>2012-08-10T00:00:00Z</td>\n",
       "    </tr>\n",
       "    <tr>\n",
       "      <th>496</th>\n",
       "      <td>(52b213b38594d8a2be17c970,)</td>\n",
       "      <td>August</td>\n",
       "      <td>2012-08-09T00:00:00Z</td>\n",
       "    </tr>\n",
       "    <tr>\n",
       "      <th>497</th>\n",
       "      <td>(52b213b38594d8a2be17c971,)</td>\n",
       "      <td>August</td>\n",
       "      <td>2012-08-03T00:00:00Z</td>\n",
       "    </tr>\n",
       "    <tr>\n",
       "      <th>498</th>\n",
       "      <td>(52b213b38594d8a2be17c972,)</td>\n",
       "      <td>August</td>\n",
       "      <td>2012-08-02T00:00:00Z</td>\n",
       "    </tr>\n",
       "    <tr>\n",
       "      <th>499</th>\n",
       "      <td>(52b213b38594d8a2be17c973,)</td>\n",
       "      <td>August</td>\n",
       "      <td>2012-08-02T00:00:00Z</td>\n",
       "    </tr>\n",
       "  </tbody>\n",
       "</table>\n",
       "<p>500 rows × 3 columns</p>\n",
       "</div>"
      ],
      "text/plain": [
       "                             _id board_approval_month     boardapprovaldate\n",
       "0    (52b213b38594d8a2be17c780,)             November  2013-11-12T00:00:00Z\n",
       "1    (52b213b38594d8a2be17c781,)             November  2013-11-04T00:00:00Z\n",
       "2    (52b213b38594d8a2be17c782,)             November  2013-11-01T00:00:00Z\n",
       "3    (52b213b38594d8a2be17c783,)              October  2013-10-31T00:00:00Z\n",
       "4    (52b213b38594d8a2be17c784,)              October  2013-10-31T00:00:00Z\n",
       "..                           ...                  ...                   ...\n",
       "495  (52b213b38594d8a2be17c96f,)               August  2012-08-10T00:00:00Z\n",
       "496  (52b213b38594d8a2be17c970,)               August  2012-08-09T00:00:00Z\n",
       "497  (52b213b38594d8a2be17c971,)               August  2012-08-03T00:00:00Z\n",
       "498  (52b213b38594d8a2be17c972,)               August  2012-08-02T00:00:00Z\n",
       "499  (52b213b38594d8a2be17c973,)               August  2012-08-02T00:00:00Z\n",
       "\n",
       "[500 rows x 3 columns]"
      ]
     },
     "execution_count": 22,
     "metadata": {},
     "output_type": "execute_result"
    }
   ],
   "source": [
    "import pandas as pd\n",
    "df_wb.toPandas()"
   ]
  },
  {
   "cell_type": "code",
   "execution_count": 23,
   "id": "2768605c-d01c-411b-8ded-8e2e37b3c2db",
   "metadata": {},
   "outputs": [],
   "source": [
    "query = \"\"\"\n",
    "select regionname, count(*) as count\n",
    "from world_bank\n",
    "group by regionname\n",
    "order by count(*) desc\n",
    "\"\"\""
   ]
  },
  {
   "cell_type": "code",
   "execution_count": 24,
   "id": "e441c53b-5429-4903-ad25-0b76ff89cc7a",
   "metadata": {},
   "outputs": [
    {
     "data": {
      "text/html": [
       "<div>\n",
       "<style scoped>\n",
       "    .dataframe tbody tr th:only-of-type {\n",
       "        vertical-align: middle;\n",
       "    }\n",
       "\n",
       "    .dataframe tbody tr th {\n",
       "        vertical-align: top;\n",
       "    }\n",
       "\n",
       "    .dataframe thead th {\n",
       "        text-align: right;\n",
       "    }\n",
       "</style>\n",
       "<table border=\"1\" class=\"dataframe\">\n",
       "  <thead>\n",
       "    <tr style=\"text-align: right;\">\n",
       "      <th></th>\n",
       "      <th>regionname</th>\n",
       "      <th>count</th>\n",
       "    </tr>\n",
       "  </thead>\n",
       "  <tbody>\n",
       "    <tr>\n",
       "      <th>0</th>\n",
       "      <td>Africa</td>\n",
       "      <td>152</td>\n",
       "    </tr>\n",
       "    <tr>\n",
       "      <th>1</th>\n",
       "      <td>East Asia and Pacific</td>\n",
       "      <td>100</td>\n",
       "    </tr>\n",
       "    <tr>\n",
       "      <th>2</th>\n",
       "      <td>Europe and Central Asia</td>\n",
       "      <td>74</td>\n",
       "    </tr>\n",
       "    <tr>\n",
       "      <th>3</th>\n",
       "      <td>South Asia</td>\n",
       "      <td>65</td>\n",
       "    </tr>\n",
       "    <tr>\n",
       "      <th>4</th>\n",
       "      <td>Middle East and North Africa</td>\n",
       "      <td>54</td>\n",
       "    </tr>\n",
       "    <tr>\n",
       "      <th>5</th>\n",
       "      <td>Latin America and Caribbean</td>\n",
       "      <td>53</td>\n",
       "    </tr>\n",
       "    <tr>\n",
       "      <th>6</th>\n",
       "      <td>Other</td>\n",
       "      <td>2</td>\n",
       "    </tr>\n",
       "  </tbody>\n",
       "</table>\n",
       "</div>"
      ],
      "text/plain": [
       "                     regionname  count\n",
       "0                        Africa    152\n",
       "1         East Asia and Pacific    100\n",
       "2       Europe and Central Asia     74\n",
       "3                    South Asia     65\n",
       "4  Middle East and North Africa     54\n",
       "5   Latin America and Caribbean     53\n",
       "6                         Other      2"
      ]
     },
     "execution_count": 24,
     "metadata": {},
     "output_type": "execute_result"
    }
   ],
   "source": [
    "sqlContext.sql(query).toPandas()"
   ]
  },
  {
   "cell_type": "code",
   "execution_count": 25,
   "id": "ada0764f-c355-4eae-bc71-2369a3fa116f",
   "metadata": {},
   "outputs": [
    {
     "data": {
      "text/plain": [
       "[[1, 9, 11], [2, 9, 11], [3, 7, 5], [4, 3, 1], [5, 8, 10]]"
      ]
     },
     "execution_count": 25,
     "metadata": {},
     "output_type": "execute_result"
    }
   ],
   "source": [
    "data_list = [[1, 9, 11], [2, 9, 11], [3, 7, 5], [4, 3, 1], [5, 8, 10]]\n",
    "rdd_data = sc.parallelize(data_list)\n",
    "rdd_data.collect()"
   ]
  },
  {
   "cell_type": "code",
   "execution_count": 26,
   "id": "bdfceda5-3578-4e55-8ae5-a91ba72670c4",
   "metadata": {},
   "outputs": [],
   "source": [
    "from pyspark.sql.types import *"
   ]
  },
  {
   "cell_type": "code",
   "execution_count": 34,
   "id": "173049f5-c47a-43fc-8e65-645a6dff256b",
   "metadata": {},
   "outputs": [],
   "source": [
    "sche_string = \"ID V1 V2\"\n",
    "fields = [StructField(field_name, StringType(), True) for field_name in sche_string.split()]\n",
    "schema = StructType(fields)"
   ]
  },
  {
   "cell_type": "code",
   "execution_count": 35,
   "id": "c953680f-61de-4689-b7dd-ecd21cee2899",
   "metadata": {},
   "outputs": [],
   "source": [
    "sche_df = sqlContext.createDataFrame(rdd_data, schema)"
   ]
  },
  {
   "cell_type": "code",
   "execution_count": 37,
   "id": "100831e7-4943-4780-9f6b-023e28b1dac2",
   "metadata": {},
   "outputs": [
    {
     "name": "stderr",
     "output_type": "stream",
     "text": [
      "[Stage 25:=========================================>                (5 + 2) / 7]\r"
     ]
    },
    {
     "name": "stdout",
     "output_type": "stream",
     "text": [
      "+---+---+---+\n",
      "| ID| V1| V2|\n",
      "+---+---+---+\n",
      "|  1|  9| 11|\n",
      "|  2|  9| 11|\n",
      "|  3|  7|  5|\n",
      "|  4|  3|  1|\n",
      "|  5|  8| 10|\n",
      "+---+---+---+\n",
      "\n"
     ]
    },
    {
     "name": "stderr",
     "output_type": "stream",
     "text": [
      "                                                                                \r"
     ]
    }
   ],
   "source": [
    "sche_df.show()"
   ]
  },
  {
   "cell_type": "code",
   "execution_count": 38,
   "id": "277af992-b480-46bc-9e1c-b2acdb759e54",
   "metadata": {},
   "outputs": [],
   "source": [
    "from pyspark.sql import Row"
   ]
  },
  {
   "cell_type": "code",
   "execution_count": 40,
   "id": "69603f8b-14b0-4e94-a996-b111eb872513",
   "metadata": {},
   "outputs": [
    {
     "name": "stderr",
     "output_type": "stream",
     "text": [
      "                                                                                \r"
     ]
    },
    {
     "data": {
      "text/plain": [
       "[Row(id=1, name=9, gender=11),\n",
       " Row(id=2, name=9, gender=11),\n",
       " Row(id=3, name=7, gender=5),\n",
       " Row(id=4, name=3, gender=1),\n",
       " Row(id=5, name=8, gender=10)]"
      ]
     },
     "execution_count": 40,
     "metadata": {},
     "output_type": "execute_result"
    }
   ],
   "source": [
    "rdd_data_m = rdd_data.map(lambda x: Row(id=x[0], name=x[1], gender=x[2]))\n",
    "rdd_data_m.collect()"
   ]
  },
  {
   "cell_type": "code",
   "execution_count": 41,
   "id": "f0329495-ad64-45ee-98a3-d2452e758d3f",
   "metadata": {},
   "outputs": [
    {
     "name": "stderr",
     "output_type": "stream",
     "text": [
      "                                                                                \r"
     ]
    },
    {
     "name": "stdout",
     "output_type": "stream",
     "text": [
      "+---+----+------+\n",
      "| id|name|gender|\n",
      "+---+----+------+\n",
      "|  1|   9|    11|\n",
      "|  2|   9|    11|\n",
      "|  3|   7|     5|\n",
      "|  4|   3|     1|\n",
      "|  5|   8|    10|\n",
      "+---+----+------+\n",
      "\n"
     ]
    }
   ],
   "source": [
    "rdd_data_m.toDF().show()"
   ]
  },
  {
   "cell_type": "code",
   "execution_count": 43,
   "id": "19100fc2-ea6f-497e-a16a-bc22f335d04a",
   "metadata": {},
   "outputs": [],
   "source": [
    "def process_to_RDD(line):\n",
    "    return line.split(\",\")\n",
    "\n",
    "def process_to_DF(line):\n",
    "    return Row(id = int(line[0]), name=line[1], age=int(line[2]), num_friend = int(line[3]))"
   ]
  },
  {
   "cell_type": "code",
   "execution_count": 44,
   "id": "3efad9a6-a0c2-4526-a65c-b8a8a4abfa90",
   "metadata": {},
   "outputs": [
    {
     "name": "stderr",
     "output_type": "stream",
     "text": [
      "                                                                                \r"
     ]
    },
    {
     "data": {
      "text/plain": [
       "[['0', 'Alex', '30', '123'],\n",
       " ['1', 'Bert', '32', '234'],\n",
       " ['2', 'Curt', '28', '312'],\n",
       " ['3', 'Don', '32', '89']]"
      ]
     },
     "execution_count": 44,
     "metadata": {},
     "output_type": "execute_result"
    }
   ],
   "source": [
    "rdd = sc.textFile(\"user_info.csv\").map(process_to_RDD)\n",
    "rdd.collect()"
   ]
  },
  {
   "cell_type": "code",
   "execution_count": 46,
   "id": "b84997da-4d8b-4300-be1f-a0c1de5561b4",
   "metadata": {},
   "outputs": [
    {
     "data": {
      "text/plain": [
       "[Row(id=0, name='Alex', age=30, num_friend=123),\n",
       " Row(id=1, name='Bert', age=32, num_friend=234),\n",
       " Row(id=2, name='Curt', age=28, num_friend=312),\n",
       " Row(id=3, name='Don', age=32, num_friend=89)]"
      ]
     },
     "execution_count": 46,
     "metadata": {},
     "output_type": "execute_result"
    }
   ],
   "source": [
    "rows = rdd.map(process_to_DF)\n",
    "rows.collect()"
   ]
  },
  {
   "cell_type": "code",
   "execution_count": 47,
   "id": "42204d76-5e19-4d2f-9ef0-49b7ee9d9a03",
   "metadata": {},
   "outputs": [
    {
     "name": "stdout",
     "output_type": "stream",
     "text": [
      "+---+----+---+----------+\n",
      "| id|name|age|num_friend|\n",
      "+---+----+---+----------+\n",
      "|  0|Alex| 30|       123|\n",
      "|  1|Bert| 32|       234|\n",
      "|  2|Curt| 28|       312|\n",
      "|  3| Don| 32|        89|\n",
      "+---+----+---+----------+\n",
      "\n"
     ]
    }
   ],
   "source": [
    "df = sqlContext.createDataFrame(rows)\n",
    "df.show()"
   ]
  },
  {
   "cell_type": "code",
   "execution_count": 54,
   "id": "528d2b1a-02fb-41b0-83c8-27f1e9665753",
   "metadata": {},
   "outputs": [
    {
     "name": "stdout",
     "output_type": "stream",
     "text": [
      "+---+-------+--------+\n",
      "|age|max(id)|max(age)|\n",
      "+---+-------+--------+\n",
      "| 32|      3|      32|\n",
      "+---+-------+--------+\n",
      "\n"
     ]
    }
   ],
   "source": [
    "filter = df.select(df.id, df.age).filter(df.age > 30)\n",
    "filter.groupBy('age').agg({'age': 'max', 'id': 'max'}).show()"
   ]
  },
  {
   "cell_type": "code",
   "execution_count": 55,
   "id": "ad0df321-8196-4cb3-8156-997ee2361c56",
   "metadata": {},
   "outputs": [
    {
     "name": "stderr",
     "output_type": "stream",
     "text": [
      "/home/hadoop/spark-3.5.1-bin-hadoop3/python/pyspark/sql/dataframe.py:329: FutureWarning: Deprecated in 2.0, use createOrReplaceTempView instead.\n",
      "  warnings.warn(\"Deprecated in 2.0, use createOrReplaceTempView instead.\", FutureWarning)\n"
     ]
    }
   ],
   "source": [
    "df.registerTempTable(\"user\")\n",
    "res = sqlContext.sql(\"select * from user where age > 30\")"
   ]
  },
  {
   "cell_type": "code",
   "execution_count": 56,
   "id": "48142104-c40b-4cfa-aa87-8017e9f26c94",
   "metadata": {},
   "outputs": [
    {
     "name": "stderr",
     "output_type": "stream",
     "text": [
      "                                                                                \r"
     ]
    },
    {
     "name": "stdout",
     "output_type": "stream",
     "text": [
      "+---+----+---+----------+\n",
      "| id|name|age|num_friend|\n",
      "+---+----+---+----------+\n",
      "|  1|Bert| 32|       234|\n",
      "|  3| Don| 32|        89|\n",
      "+---+----+---+----------+\n",
      "\n"
     ]
    }
   ],
   "source": [
    "res.show()"
   ]
  },
  {
   "cell_type": "code",
   "execution_count": null,
   "id": "17d47db2-8199-4b5d-805d-c1de174eadfc",
   "metadata": {},
   "outputs": [],
   "source": []
  }
 ],
 "metadata": {
  "kernelspec": {
   "display_name": "Python 3 (ipykernel)",
   "language": "python",
   "name": "python3"
  },
  "language_info": {
   "codemirror_mode": {
    "name": "ipython",
    "version": 3
   },
   "file_extension": ".py",
   "mimetype": "text/x-python",
   "name": "python",
   "nbconvert_exporter": "python",
   "pygments_lexer": "ipython3",
   "version": "3.10.12"
  }
 },
 "nbformat": 4,
 "nbformat_minor": 5
}
